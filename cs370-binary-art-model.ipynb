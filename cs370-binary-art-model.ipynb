{
 "cells": [
  {
   "cell_type": "code",
   "execution_count": 3,
   "id": "238e7f8e",
   "metadata": {},
   "outputs": [],
   "source": [
    "import torch\n",
    "import torchvision\n",
    "import matplotlib.pyplot as plt\n",
    "import torch.nn as nn\n",
    "import torch.optim as optim\n",
    "import torch.nn.functional as F\n",
    "\n",
    "from torchvision import datasets, transforms\n",
    "from torch.utils.data import DataLoader"
   ]
  },
  {
   "cell_type": "code",
   "execution_count": 4,
   "id": "cb4e0fe5",
   "metadata": {},
   "outputs": [],
   "source": [
    "train_transform = transforms.Compose([\n",
    "                                      transforms.Resize([256, 256]),\n",
    "                                      transforms.RandomHorizontalFlip(p=0.5),\n",
    "                                      transforms.ToTensor(),\n",
    "                                      transforms.Normalize(mean=(0.5,0.5,0.5), std=(0.5,0.5,0.5))\n",
    "])\n",
    "\n",
    "test_transform = transforms.Compose([\n",
    "                                      transforms.Resize([256, 256]),\n",
    "                                      transforms.ToTensor(),\n",
    "])\n"
   ]
  },
  {
   "cell_type": "code",
   "execution_count": 5,
   "id": "ee11b474",
   "metadata": {},
   "outputs": [],
   "source": [
    "train_data = datasets.ImageFolder(root=\"data/train\", transform=train_transform)\n",
    "train = DataLoader(train_data, batch_size = 32, shuffle = True)"
   ]
  },
  {
   "cell_type": "code",
   "execution_count": 6,
   "id": "d49d19c7",
   "metadata": {},
   "outputs": [],
   "source": [
    "test_data = datasets.ImageFolder(root=\"data/validation\", transform=test_transform)\n",
    "test = DataLoader(test_data, batch_size = 32, shuffle = False)"
   ]
  },
  {
   "cell_type": "code",
   "execution_count": 12,
   "id": "c3b370e6",
   "metadata": {},
   "outputs": [],
   "source": [
    "class CNNBlock(torch.nn.Module):\n",
    "    def __init__(self, in_channels, out_channels, conv_kernel, conv_stride, conv_padding, pool_kernel, pool_stride):\n",
    "        super().__init__()\n",
    "        L = [\n",
    "            torch.nn.BatchNorm2d(in_channels),\n",
    "            torch.nn.ReLU(),\n",
    "            torch.nn.Conv2d(in_channels, out_channels, conv_kernel, conv_stride, conv_padding, dilation=1, groups=1, bias=True, padding_mode='zeros', device=None, dtype=None),\n",
    "            torch.nn.BatchNorm2d(out_channels),\n",
    "            torch.nn.SiLU(),\n",
    "            torch.nn.MaxPool2d(pool_kernel, pool_stride),\n",
    "        ]\n",
    "        self.network = torch.nn.Sequential(*L)\n",
    "    \n",
    "    def forward(self, x):\n",
    "        return self.network(x)\n",
    "\n",
    "class CNNClassifier(torch.nn.Module):\n",
    "    def __init__(self):\n",
    "        super().__init__()\n",
    "        in_channels = 3\n",
    "        out_channels = 32\n",
    "        num_classes = 2\n",
    "        kernel_size = 7\n",
    "        stride = 1\n",
    "        padding = 3\n",
    "        L = [\n",
    "            CNNBlock(in_channels, out_channels, kernel_size, stride, padding, 2, 2),\n",
    "            torch.nn.Dropout(p=0.05),\n",
    "            CNNBlock(32, 64, 3, 1, 1, 2, 2),\n",
    "            torch.nn.Dropout(p=0.05),\n",
    "            CNNBlock(64, 128, 3, 1, 1, 2, 2),\n",
    "            torch.nn.MaxPool2d(2),\n",
    "            torch.nn.Flatten(),\n",
    "            torch.nn.Linear(32768, num_classes)\n",
    "        ]\n",
    "        self.network = torch.nn.Sequential(*L)\n",
    "        self.transforms = torchvision.transforms.Compose([torchvision.transforms.Normalize((0.5, 0.5, 0.5), (0.5, 0.5, 0.5))])\n",
    "\n",
    "    def forward(self, x):\n",
    "        x = self.transforms(x)\n",
    "        return self.network(x)"
   ]
  },
  {
   "cell_type": "code",
   "execution_count": 13,
   "id": "33310fc5",
   "metadata": {},
   "outputs": [],
   "source": [
    "model = CNNClassifier()\n",
    "criterion = nn.CrossEntropyLoss()\n",
    "optimizer = torch.optim.Adam(model.parameters(),lr = 0.01)"
   ]
  },
  {
   "cell_type": "code",
   "execution_count": 20,
   "id": "b6863703",
   "metadata": {},
   "outputs": [],
   "source": [
    "def train_iter(epoch, net, trainDataLoader, optimizer, criterion):\n",
    "    net.train()\n",
    "    total = 0\n",
    "    train_loss = 0\n",
    "    correct = 0\n",
    "\n",
    "    for inputs, targets in trainDataLoader:\n",
    "        optimizer.zero_grad()\n",
    "        outputs = net(inputs)\n",
    "        _, predicted = torch.max(outputs.data, 1)\n",
    "        loss = criterion(outputs,targets)\n",
    "        loss.backward()\n",
    "        optimizer.step()\n",
    "        train_loss += loss.item()\n",
    "        total += targets.size(0)\n",
    "        correct += (predicted == targets).sum().item()\n",
    "\n",
    "    avg_loss = train_loss / len(trainDataLoader)\n",
    "    accuracy = 100 * correct / total\n",
    "    print('Epoch: {} \\tTraining Loss: {:.25f} \\tTraining Accuracy: {:.25f}'.format(epoch, avg_loss, accuracy))\n",
    "    return avg_loss\n",
    "\n",
    "def train_model(num_epochs, net, trainDataLoader, optimizer, criterion):\n",
    "  for i in range(num_epochs):\n",
    "    train_iter(i, net, trainDataLoader, optimizer, criterion)"
   ]
  },
  {
   "cell_type": "code",
   "execution_count": 21,
   "id": "6b24939c",
   "metadata": {},
   "outputs": [
    {
     "name": "stdout",
     "output_type": "stream",
     "text": [
      "Epoch: 0 \tTraining Loss: 0.5145394382279482314856978 \tAccuracy: 83.5625000000000000000000000\n",
      "Epoch: 1 \tTraining Loss: 0.5330764148568800653293920 \tAccuracy: 83.3125000000000000000000000\n",
      "Epoch: 2 \tTraining Loss: 0.5777742280856545953326986 \tAccuracy: 83.0625000000000000000000000\n",
      "Epoch: 3 \tTraining Loss: 0.9286311275804763898378269 \tAccuracy: 78.6250000000000000000000000\n",
      "Epoch: 4 \tTraining Loss: 0.4577076206594934415505804 \tAccuracy: 86.2500000000000000000000000\n"
     ]
    }
   ],
   "source": [
    "train_model(5, model, train, optimizer, criterion)"
   ]
  },
  {
   "cell_type": "code",
   "execution_count": 24,
   "id": "19e6c933",
   "metadata": {},
   "outputs": [],
   "source": [
    "def eval_model(net, testDataLoader):\n",
    "    net.eval()\n",
    "    correct = 0\n",
    "    total = 0\n",
    "    with torch.no_grad():\n",
    "        for inputs, targets in testDataLoader:\n",
    "            outputs = net(inputs)\n",
    "            _, predicted = torch.max(outputs.data, 1)\n",
    "            total += targets.size(0)\n",
    "            correct += (predicted == targets).sum().item()\n",
    "            \n",
    "    print('Accuracy of the network on the set of %d test images: %d %%' % (len(test),\n",
    "        100 * correct / total))"
   ]
  },
  {
   "cell_type": "code",
   "execution_count": 25,
   "id": "45f91106",
   "metadata": {},
   "outputs": [
    {
     "name": "stdout",
     "output_type": "stream",
     "text": [
      "Accuracy of the network on the set of 400 test images: 61 %\n"
     ]
    }
   ],
   "source": [
    "eval_model(model, test)"
   ]
  },
  {
   "cell_type": "code",
   "execution_count": null,
   "id": "5d6962b9",
   "metadata": {},
   "outputs": [],
   "source": []
  }
 ],
 "metadata": {
  "kernelspec": {
   "display_name": "Python 3 (ipykernel)",
   "language": "python",
   "name": "python3"
  },
  "language_info": {
   "codemirror_mode": {
    "name": "ipython",
    "version": 3
   },
   "file_extension": ".py",
   "mimetype": "text/x-python",
   "name": "python",
   "nbconvert_exporter": "python",
   "pygments_lexer": "ipython3",
   "version": "3.9.7"
  }
 },
 "nbformat": 4,
 "nbformat_minor": 5
}
