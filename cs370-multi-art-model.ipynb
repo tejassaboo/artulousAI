{
 "cells": [
  {
   "cell_type": "code",
   "execution_count": 1,
   "id": "238e7f8e",
   "metadata": {},
   "outputs": [],
   "source": [
    "import torch\n",
    "import torchvision\n",
    "import matplotlib.pyplot as plt\n",
    "import torch.nn as nn\n",
    "import torch.optim as optim\n",
    "import torch.nn.functional as F\n",
    "\n",
    "from torchvision import datasets, transforms\n",
    "from torch.utils.data import DataLoader"
   ]
  },
  {
   "cell_type": "code",
   "execution_count": 2,
   "id": "98ff5427",
   "metadata": {},
   "outputs": [],
   "source": [
    "import os\n",
    "import random\n",
    "import shutil"
   ]
  },
  {
   "cell_type": "code",
   "execution_count": null,
   "id": "e250e444",
   "metadata": {},
   "outputs": [],
   "source": [
    "import os\n",
    "import random\n",
    "import shutil\n",
    "\n",
    "source = 'wikiart/Abstract_Expressionism'\n",
    "dest = 'data/train/abstract-expressionism'\n",
    "files = os.listdir(source)\n",
    "no_of_files = 800\n",
    "\n",
    "for file_name in random.sample(files, no_of_files):\n",
    "    shutil.move(os.path.join(source, file_name), dest)"
   ]
  },
  {
   "cell_type": "code",
   "execution_count": 3,
   "id": "9845108d",
   "metadata": {},
   "outputs": [],
   "source": [
    "def move_shuffled_files(src, dest, num_files):\n",
    "    files = os.listdir(src)\n",
    "    for file_name in random.sample(files, num_files):\n",
    "        shutil.move(os.path.join(src, file_name), dest)\n",
    "    "
   ]
  },
  {
   "cell_type": "code",
   "execution_count": 8,
   "id": "1fdfd862",
   "metadata": {},
   "outputs": [],
   "source": [
    "def train_test_split():\n",
    "    wiki_dirs = ['Early_Renaissance', 'Cubism', 'Pointillism', 'Realism']\n",
    "    base_src = 'wikiart/'\n",
    "    base_train_dest = 'data/train/'\n",
    "    base_test_dest = 'data/validation/'\n",
    "    for wiki_dir in wiki_dirs:\n",
    "        src = base_src + wiki_dir\n",
    "        train_dest = base_train_dest + wiki_dir\n",
    "        test_dest = base_test_dest + wiki_dir\n",
    "        move_shuffled_files(src, train_dest, 80)\n",
    "        move_shuffled_files(src, test_dest, 20)\n",
    "    \n",
    "    \n",
    "    "
   ]
  },
  {
   "cell_type": "code",
   "execution_count": 7,
   "id": "81b32866",
   "metadata": {},
   "outputs": [],
   "source": [
    "train_test_split()"
   ]
  },
  {
   "cell_type": "code",
   "execution_count": 24,
   "id": "cb4e0fe5",
   "metadata": {},
   "outputs": [],
   "source": [
    "train_transform = transforms.Compose([\n",
    "                                      transforms.Resize([256, 256]),\n",
    "                                      transforms.RandomHorizontalFlip(p=0.5),\n",
    "                                      transforms.ColorJitter(0.3,0.3,0.3,0.3),\n",
    "                                      transforms.RandomGrayscale(0.05),\n",
    "                                      transforms.ToTensor(),\n",
    "                                      transforms.Normalize(mean=(0.5,0.5,0.5), std=(0.5,0.5,0.5))\n",
    "])\n",
    "\n",
    "test_transform = transforms.Compose([\n",
    "                                      transforms.Resize([256, 256]),\n",
    "                                      transforms.ToTensor(),\n",
    "])"
   ]
  },
  {
   "cell_type": "code",
   "execution_count": 25,
   "id": "ee11b474",
   "metadata": {},
   "outputs": [],
   "source": [
    "train_data = datasets.ImageFolder(root=\"data/train\", transform=train_transform)\n",
    "train = DataLoader(train_data, batch_size = 4, shuffle = True)"
   ]
  },
  {
   "cell_type": "code",
   "execution_count": 26,
   "id": "d49d19c7",
   "metadata": {},
   "outputs": [],
   "source": [
    "test_data = datasets.ImageFolder(root=\"data/validation\", transform=test_transform)\n",
    "test = DataLoader(test_data, batch_size = 4, shuffle = False)"
   ]
  },
  {
   "cell_type": "code",
   "execution_count": 27,
   "id": "c3b370e6",
   "metadata": {},
   "outputs": [],
   "source": [
    "class CNNBlock(torch.nn.Module):\n",
    "    def __init__(self, in_channels, out_channels, conv_kernel, conv_stride, conv_padding, pool_kernel, pool_stride):\n",
    "        super().__init__()\n",
    "        L = [\n",
    "            torch.nn.BatchNorm2d(in_channels),\n",
    "            torch.nn.ReLU(),\n",
    "            torch.nn.Conv2d(in_channels, out_channels, conv_kernel, conv_stride, conv_padding, dilation=1, groups=1, bias=True, padding_mode='zeros', device=None, dtype=None),\n",
    "            torch.nn.BatchNorm2d(out_channels),\n",
    "            torch.nn.SiLU(),\n",
    "            torch.nn.MaxPool2d(pool_kernel, pool_stride),\n",
    "        ]\n",
    "        self.network = torch.nn.Sequential(*L)\n",
    "    \n",
    "    def forward(self, x):\n",
    "        return self.network(x)\n",
    "\n",
    "class CNNClassifier(torch.nn.Module):\n",
    "    def __init__(self):\n",
    "        super().__init__()\n",
    "        in_channels = 3\n",
    "        out_channels = 32\n",
    "        num_classes = 4\n",
    "        kernel_size = 7\n",
    "        stride = 1\n",
    "        padding = 3\n",
    "        L = [\n",
    "            CNNBlock(in_channels, out_channels, kernel_size, stride, padding, 2, 2),\n",
    "            torch.nn.Dropout(p=0.05),\n",
    "            CNNBlock(32, 64, 3, 1, 1, 2, 2),\n",
    "            torch.nn.Dropout(p=0.1),\n",
    "            CNNBlock(64, 128, 3, 1, 1, 2, 2),\n",
    "            torch.nn.MaxPool2d(2),\n",
    "            torch.nn.Flatten(),\n",
    "            torch.nn.Linear(32768, num_classes)\n",
    "        ]\n",
    "        self.network = torch.nn.Sequential(*L)\n",
    "        self.transforms = torchvision.transforms.Compose([torchvision.transforms.Normalize((0.5, 0.5, 0.5), (0.5, 0.5, 0.5))])\n",
    "\n",
    "    def forward(self, x):\n",
    "        x = self.transforms(x)\n",
    "        return self.network(x)"
   ]
  },
  {
   "cell_type": "code",
   "execution_count": 28,
   "id": "33310fc5",
   "metadata": {},
   "outputs": [],
   "source": [
    "model = CNNClassifier()\n",
    "criterion = nn.CrossEntropyLoss()\n",
    "optimizer = torch.optim.Adam(model.parameters(),lr = 0.01)"
   ]
  },
  {
   "cell_type": "code",
   "execution_count": 29,
   "id": "b6863703",
   "metadata": {},
   "outputs": [],
   "source": [
    "def train_iter(epoch, net, trainDataLoader, optimizer, criterion):\n",
    "    net.train()\n",
    "    total = 0\n",
    "    train_loss = 0\n",
    "    correct = 0\n",
    "\n",
    "    for inputs, targets in trainDataLoader:\n",
    "        optimizer.zero_grad()\n",
    "        outputs = net(inputs)\n",
    "        _, predicted = torch.max(outputs.data, 1)\n",
    "        loss = criterion(outputs,targets)\n",
    "        loss.backward()\n",
    "        optimizer.step()\n",
    "        train_loss += loss.item()\n",
    "        total += targets.size(0)\n",
    "        correct += (predicted == targets).sum().item()\n",
    "\n",
    "    avg_loss = train_loss / len(trainDataLoader)\n",
    "    accuracy = 100 * correct / total\n",
    "    print('Epoch: {} \\tTraining Loss: {:.25f} \\tTraining Accuracy: {:.4f} %%'.format(epoch, avg_loss, accuracy))\n",
    "    return avg_loss"
   ]
  },
  {
   "cell_type": "code",
   "execution_count": 30,
   "id": "51646581",
   "metadata": {},
   "outputs": [],
   "source": [
    "def train_model(num_epochs, net, trainDataLoader, optimizer, criterion):\n",
    "  for i in range(num_epochs):\n",
    "    train_iter(i, net, trainDataLoader, optimizer, criterion)"
   ]
  },
  {
   "cell_type": "code",
   "execution_count": 31,
   "id": "6b24939c",
   "metadata": {},
   "outputs": [
    {
     "name": "stdout",
     "output_type": "stream",
     "text": [
      "Epoch: 0 \tTraining Loss: 57.2017701453296467661857605 \tTraining Accuracy: 33.4375\n",
      "Epoch: 1 \tTraining Loss: 7.6091669380664823663096286 \tTraining Accuracy: 35.9375\n",
      "Epoch: 2 \tTraining Loss: 4.8036403167992833829202937 \tTraining Accuracy: 38.4375\n",
      "Epoch: 3 \tTraining Loss: 2.9725606070831416261057711 \tTraining Accuracy: 41.8750\n",
      "Epoch: 4 \tTraining Loss: 2.9177090747980400919914246 \tTraining Accuracy: 40.3125\n"
     ]
    }
   ],
   "source": [
    "train_model(5, model, train, optimizer, criterion)"
   ]
  },
  {
   "cell_type": "code",
   "execution_count": 34,
   "id": "54f90129",
   "metadata": {},
   "outputs": [
    {
     "name": "stdout",
     "output_type": "stream",
     "text": [
      "Epoch: 0 \tTraining Loss: 2.7318791658617556095123291 \tTraining Accuracy: 37.1875\n",
      "Epoch: 1 \tTraining Loss: 2.9518452800810335290293551 \tTraining Accuracy: 43.7500\n",
      "Epoch: 2 \tTraining Loss: 2.2851232238113881045649123 \tTraining Accuracy: 42.5000\n",
      "Epoch: 3 \tTraining Loss: 2.4466302558779715603520799 \tTraining Accuracy: 41.2500\n",
      "Epoch: 4 \tTraining Loss: 2.2878626094199718821187162 \tTraining Accuracy: 43.4375\n",
      "Epoch: 5 \tTraining Loss: 2.3907029002904893744130277 \tTraining Accuracy: 43.1250\n",
      "Epoch: 6 \tTraining Loss: 1.9155634072609246665308547 \tTraining Accuracy: 50.3125\n",
      "Epoch: 7 \tTraining Loss: 3.0362857569009067404408597 \tTraining Accuracy: 40.6250\n",
      "Epoch: 8 \tTraining Loss: 3.0607467183377594643900466 \tTraining Accuracy: 38.7500\n",
      "Epoch: 9 \tTraining Loss: 4.1442793217487636781015681 \tTraining Accuracy: 43.1250\n"
     ]
    }
   ],
   "source": [
    "train_model(10, model, train, optimizer, criterion)"
   ]
  },
  {
   "cell_type": "code",
   "execution_count": 37,
   "id": "48393492",
   "metadata": {},
   "outputs": [
    {
     "name": "stdout",
     "output_type": "stream",
     "text": [
      "Epoch: 0 \tTraining Loss: 2.0226778466254473620722365 \tTraining Accuracy: 52.8125\n",
      "Epoch: 1 \tTraining Loss: 3.1091960541380103677511215 \tTraining Accuracy: 45.6250\n",
      "Epoch: 2 \tTraining Loss: 2.0291597127914426934580661 \tTraining Accuracy: 49.3750\n",
      "Epoch: 3 \tTraining Loss: 2.4273703359998761719396043 \tTraining Accuracy: 45.6250\n",
      "Epoch: 4 \tTraining Loss: 1.2099299445748328274419237 \tTraining Accuracy: 59.0625\n",
      "Epoch: 5 \tTraining Loss: 1.5728334730491042581235206 \tTraining Accuracy: 54.6875\n",
      "Epoch: 6 \tTraining Loss: 1.1024652587249874624575341 \tTraining Accuracy: 59.3750\n",
      "Epoch: 7 \tTraining Loss: 1.0845762057229877406427931 \tTraining Accuracy: 61.2500\n",
      "Epoch: 8 \tTraining Loss: 0.9724914727732538732851708 \tTraining Accuracy: 63.1250\n",
      "Epoch: 9 \tTraining Loss: 1.1055432362947612556780541 \tTraining Accuracy: 60.6250\n"
     ]
    }
   ],
   "source": [
    "train_model(10, model, train, optimizer, criterion)"
   ]
  },
  {
   "cell_type": "code",
   "execution_count": 40,
   "id": "532a1c30",
   "metadata": {},
   "outputs": [
    {
     "name": "stdout",
     "output_type": "stream",
     "text": [
      "Epoch: 0 \tTraining Loss: 1.6421371965203435117075514 \tTraining Accuracy: 54.6875\n",
      "Epoch: 1 \tTraining Loss: 1.0873040608596056255663598 \tTraining Accuracy: 62.1875\n",
      "Epoch: 2 \tTraining Loss: 0.8935208981391042915021217 \tTraining Accuracy: 67.1875\n",
      "Epoch: 3 \tTraining Loss: 1.1091279258951545205746925 \tTraining Accuracy: 60.9375\n",
      "Epoch: 4 \tTraining Loss: 0.8411228692857548594474792 \tTraining Accuracy: 68.7500\n",
      "Epoch: 5 \tTraining Loss: 0.8840034040389582736807483 \tTraining Accuracy: 70.6250\n",
      "Epoch: 6 \tTraining Loss: 0.8285916869295760767144543 \tTraining Accuracy: 69.0625\n",
      "Epoch: 7 \tTraining Loss: 0.6956357876770198345184326 \tTraining Accuracy: 77.8125\n",
      "Epoch: 8 \tTraining Loss: 0.7178344917600043562089240 \tTraining Accuracy: 75.6250\n",
      "Epoch: 9 \tTraining Loss: 0.8046942681772634164971691 \tTraining Accuracy: 70.0000\n"
     ]
    }
   ],
   "source": [
    "train_model(10, model, train, optimizer, criterion)"
   ]
  },
  {
   "cell_type": "code",
   "execution_count": 41,
   "id": "19e6c933",
   "metadata": {},
   "outputs": [],
   "source": [
    "def eval_model(net, testDataLoader):\n",
    "    net.eval()\n",
    "    correct = 0\n",
    "    total = 0\n",
    "    with torch.no_grad():\n",
    "        for inputs, targets in testDataLoader:\n",
    "            outputs = net(inputs)\n",
    "            _, predicted = torch.max(outputs.data, 1)\n",
    "            total += len(targets)\n",
    "            correct += (predicted == targets).sum().item()\n",
    "            \n",
    "    print('Accuracy of the network on the set of %d test images: %d %%' % (total,\n",
    "        100 * correct / total))"
   ]
  },
  {
   "cell_type": "code",
   "execution_count": 42,
   "id": "45f91106",
   "metadata": {},
   "outputs": [
    {
     "name": "stdout",
     "output_type": "stream",
     "text": [
      "Accuracy of the network on the set of 80 test images: 35 %\n"
     ]
    }
   ],
   "source": [
    "eval_model(model, test)"
   ]
  },
  {
   "cell_type": "code",
   "execution_count": null,
   "id": "7d611050",
   "metadata": {},
   "outputs": [],
   "source": []
  }
 ],
 "metadata": {
  "kernelspec": {
   "display_name": "Python 3 (ipykernel)",
   "language": "python",
   "name": "python3"
  },
  "language_info": {
   "codemirror_mode": {
    "name": "ipython",
    "version": 3
   },
   "file_extension": ".py",
   "mimetype": "text/x-python",
   "name": "python",
   "nbconvert_exporter": "python",
   "pygments_lexer": "ipython3",
   "version": "3.9.7"
  }
 },
 "nbformat": 4,
 "nbformat_minor": 5
}
