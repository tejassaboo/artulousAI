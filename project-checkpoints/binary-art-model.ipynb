{
 "cells": [
  {
   "cell_type": "code",
   "execution_count": 1,
   "id": "238e7f8e",
   "metadata": {},
   "outputs": [],
   "source": [
    "import torch\n",
    "import torchvision\n",
    "import matplotlib.pyplot as plt\n",
    "import torch.nn as nn\n",
    "import torch.optim as optim\n",
    "import torch.nn.functional as F\n",
    "\n",
    "from torchvision import datasets, transforms\n",
    "from torch.utils.data import DataLoader"
   ]
  },
  {
   "cell_type": "code",
   "execution_count": 2,
   "id": "98ff5427",
   "metadata": {},
   "outputs": [],
   "source": [
    "import os\n",
    "import random\n",
    "import shutil"
   ]
  },
  {
   "cell_type": "code",
   "execution_count": null,
   "id": "e250e444",
   "metadata": {},
   "outputs": [],
   "source": [
    "import os\n",
    "import random\n",
    "import shutil\n",
    "\n",
    "source = 'wikiart/Abstract_Expressionism'\n",
    "dest = 'data/train/abstract-expressionism'\n",
    "files = os.listdir(source)\n",
    "no_of_files = 800\n",
    "\n",
    "for file_name in random.sample(files, no_of_files):\n",
    "    shutil.move(os.path.join(source, file_name), dest)"
   ]
  },
  {
   "cell_type": "code",
   "execution_count": 3,
   "id": "9845108d",
   "metadata": {},
   "outputs": [],
   "source": [
    "def move_shuffled_files(src, dest, num_files):\n",
    "    files = os.listdir(src)\n",
    "    for file_name in random.sample(files, num_files):\n",
    "        shutil.move(os.path.join(src, file_name), dest)\n",
    "    "
   ]
  },
  {
   "cell_type": "code",
   "execution_count": 4,
   "id": "1fdfd862",
   "metadata": {},
   "outputs": [],
   "source": [
    "def train_test_split():\n",
    "    #wiki_dirs = ['Abstract_Expressionism', 'Cubism', 'Pointillism', 'Realism']\n",
    "    wiki_dirs = ['Early_Renaissance', 'High_Renaissance']\n",
    "    base_src = 'wikiart/'\n",
    "    base_train_dest = 'data/train/'\n",
    "    base_test_dest = 'data/validation/'\n",
    "    for wiki_dir in wiki_dirs:\n",
    "        src = base_src + wiki_dir\n",
    "        train_dest = base_train_dest + wiki_dir\n",
    "        test_dest = base_test_dest + wiki_dir\n",
    "        move_shuffled_files(src, train_dest, 800)\n",
    "        move_shuffled_files(src, test_dest, 200)\n",
    "    \n",
    "    \n",
    "    "
   ]
  },
  {
   "cell_type": "code",
   "execution_count": 5,
   "id": "81b32866",
   "metadata": {},
   "outputs": [],
   "source": [
    "train_test_split()"
   ]
  },
  {
   "cell_type": "code",
   "execution_count": 6,
   "id": "cb4e0fe5",
   "metadata": {},
   "outputs": [],
   "source": [
    "train_transform = transforms.Compose([\n",
    "                                      transforms.Resize([256, 256]),\n",
    "                                      transforms.RandomHorizontalFlip(p=0.5),\n",
    "                                      transforms.ColorJitter(0.3,0.3,0.3,0.3),\n",
    "                                      transforms.RandomGrayscale(0.05),\n",
    "                                      transforms.ToTensor(),\n",
    "                                      transforms.Normalize(mean=(0.5,0.5,0.5), std=(0.5,0.5,0.5))\n",
    "])\n",
    "\n",
    "test_transform = transforms.Compose([\n",
    "                                      transforms.Resize([256, 256]),\n",
    "                                      transforms.ToTensor(),\n",
    "])"
   ]
  },
  {
   "cell_type": "code",
   "execution_count": 7,
   "id": "ee11b474",
   "metadata": {},
   "outputs": [],
   "source": [
    "train_data = datasets.ImageFolder(root=\"data/train\", transform=train_transform)\n",
    "train = DataLoader(train_data, batch_size = 32, shuffle = True)"
   ]
  },
  {
   "cell_type": "code",
   "execution_count": 8,
   "id": "d49d19c7",
   "metadata": {},
   "outputs": [],
   "source": [
    "test_data = datasets.ImageFolder(root=\"data/validation\", transform=test_transform)\n",
    "test = DataLoader(test_data, batch_size = 32, shuffle = False)"
   ]
  },
  {
   "cell_type": "code",
   "execution_count": 9,
   "id": "c3b370e6",
   "metadata": {},
   "outputs": [],
   "source": [
    "class CNNBlock(torch.nn.Module):\n",
    "    def __init__(self, in_channels, out_channels, conv_kernel, conv_stride, conv_padding, pool_kernel, pool_stride):\n",
    "        super().__init__()\n",
    "        L = [\n",
    "            torch.nn.BatchNorm2d(in_channels),\n",
    "            torch.nn.ReLU(),\n",
    "            torch.nn.Conv2d(in_channels, out_channels, conv_kernel, conv_stride, conv_padding, dilation=1, groups=1, bias=True, padding_mode='zeros', device=None, dtype=None),\n",
    "            torch.nn.BatchNorm2d(out_channels),\n",
    "            torch.nn.SiLU(),\n",
    "            torch.nn.MaxPool2d(pool_kernel, pool_stride),\n",
    "        ]\n",
    "        self.network = torch.nn.Sequential(*L)\n",
    "    \n",
    "    def forward(self, x):\n",
    "        return self.network(x)\n",
    "\n",
    "class CNNClassifier(torch.nn.Module):\n",
    "    def __init__(self):\n",
    "        super().__init__()\n",
    "        in_channels = 3\n",
    "        out_channels = 32\n",
    "        num_classes = 2\n",
    "        kernel_size = 7\n",
    "        stride = 1\n",
    "        padding = 3\n",
    "        L = [\n",
    "            CNNBlock(in_channels, out_channels, kernel_size, stride, padding, 2, 2),\n",
    "            torch.nn.Dropout(p=0.05),\n",
    "            CNNBlock(32, 64, 3, 1, 1, 2, 2),\n",
    "            torch.nn.Dropout(p=0.1),\n",
    "            CNNBlock(64, 128, 3, 1, 1, 2, 2),\n",
    "            torch.nn.MaxPool2d(2),\n",
    "            torch.nn.Flatten(),\n",
    "            torch.nn.Linear(32768, num_classes)\n",
    "        ]\n",
    "        self.network = torch.nn.Sequential(*L)\n",
    "        self.transforms = torchvision.transforms.Compose([torchvision.transforms.Normalize((0.5, 0.5, 0.5), (0.5, 0.5, 0.5))])\n",
    "\n",
    "    def forward(self, x):\n",
    "        x = self.transforms(x)\n",
    "        return self.network(x)"
   ]
  },
  {
   "cell_type": "code",
   "execution_count": 10,
   "id": "33310fc5",
   "metadata": {},
   "outputs": [],
   "source": [
    "model = CNNClassifier()\n",
    "criterion = nn.CrossEntropyLoss()\n",
    "optimizer = torch.optim.Adam(model.parameters(),lr = 0.01)"
   ]
  },
  {
   "cell_type": "code",
   "execution_count": 11,
   "id": "b6863703",
   "metadata": {},
   "outputs": [],
   "source": [
    "def train_iter(epoch, net, trainDataLoader, optimizer, criterion):\n",
    "    net.train()\n",
    "    total = 0\n",
    "    train_loss = 0\n",
    "    correct = 0\n",
    "\n",
    "    for inputs, targets in trainDataLoader:\n",
    "        optimizer.zero_grad()\n",
    "        outputs = net(inputs)\n",
    "        _, predicted = torch.max(outputs.data, 1)\n",
    "        loss = criterion(outputs,targets)\n",
    "        loss.backward()\n",
    "        optimizer.step()\n",
    "        train_loss += loss.item()\n",
    "        total += targets.size(0)\n",
    "        correct += (predicted == targets).sum().item()\n",
    "\n",
    "    avg_loss = train_loss / len(trainDataLoader)\n",
    "    accuracy = 100 * correct / total\n",
    "    print('Epoch: {} \\tTraining Loss: {:.25f} \\tTraining Accuracy: {:.4f}'.format(epoch, avg_loss, accuracy))\n",
    "    return avg_loss"
   ]
  },
  {
   "cell_type": "code",
   "execution_count": 12,
   "id": "51646581",
   "metadata": {},
   "outputs": [],
   "source": [
    "def train_model(num_epochs, net, trainDataLoader, optimizer, criterion):\n",
    "  for i in range(num_epochs):\n",
    "    train_iter(i, net, trainDataLoader, optimizer, criterion)"
   ]
  },
  {
   "cell_type": "code",
   "execution_count": 13,
   "id": "6b24939c",
   "metadata": {},
   "outputs": [
    {
     "name": "stdout",
     "output_type": "stream",
     "text": [
      "Epoch: 0 \tTraining Loss: 16.3681514775753029766747204 \tTraining Accuracy: 52.0625\n",
      "Epoch: 1 \tTraining Loss: 6.8941128039360046741990118 \tTraining Accuracy: 51.9375\n",
      "Epoch: 2 \tTraining Loss: 1.4425563871860505038569045 \tTraining Accuracy: 57.1875\n",
      "Epoch: 3 \tTraining Loss: 1.0281836211681365522707665 \tTraining Accuracy: 56.3125\n",
      "Epoch: 4 \tTraining Loss: 0.8706555724143981711549145 \tTraining Accuracy: 58.1875\n"
     ]
    }
   ],
   "source": [
    "train_model(5, model, train, optimizer, criterion)"
   ]
  },
  {
   "cell_type": "code",
   "execution_count": 16,
   "id": "34808131",
   "metadata": {},
   "outputs": [
    {
     "name": "stdout",
     "output_type": "stream",
     "text": [
      "Epoch: 0 \tTraining Loss: 0.7992703849077225086716680 \tTraining Accuracy: 58.6875\n",
      "Epoch: 1 \tTraining Loss: 0.7385431069135666160008213 \tTraining Accuracy: 60.5000\n",
      "Epoch: 2 \tTraining Loss: 0.7061315894126891645754540 \tTraining Accuracy: 61.3125\n",
      "Epoch: 3 \tTraining Loss: 0.7055007076263427601148237 \tTraining Accuracy: 61.4375\n",
      "Epoch: 4 \tTraining Loss: 0.7054569983482360528981303 \tTraining Accuracy: 60.7500\n"
     ]
    }
   ],
   "source": [
    "train_model(5, model, train, optimizer, criterion)"
   ]
  },
  {
   "cell_type": "code",
   "execution_count": 19,
   "id": "d6d05e9a",
   "metadata": {},
   "outputs": [
    {
     "name": "stdout",
     "output_type": "stream",
     "text": [
      "Epoch: 10 \tTraining Loss: 0.6839170277118682417238915 \tTraining Accuracy: 62.5625\n"
     ]
    },
    {
     "data": {
      "text/plain": [
       "0.6839170277118682"
      ]
     },
     "execution_count": 19,
     "metadata": {},
     "output_type": "execute_result"
    }
   ],
   "source": [
    "train_iter(10, model, train, optimizer, criterion)"
   ]
  },
  {
   "cell_type": "code",
   "execution_count": 22,
   "id": "3a5383ff",
   "metadata": {},
   "outputs": [
    {
     "name": "stdout",
     "output_type": "stream",
     "text": [
      "Epoch: 11 \tTraining Loss: 0.6830500721931457297486645 \tTraining Accuracy: 61.1875\n"
     ]
    },
    {
     "data": {
      "text/plain": [
       "0.6830500721931457"
      ]
     },
     "execution_count": 22,
     "metadata": {},
     "output_type": "execute_result"
    }
   ],
   "source": [
    "train_iter(11, model, train, optimizer, criterion)"
   ]
  },
  {
   "cell_type": "code",
   "execution_count": 25,
   "id": "80145aa9",
   "metadata": {},
   "outputs": [
    {
     "name": "stdout",
     "output_type": "stream",
     "text": [
      "Epoch: 12 \tTraining Loss: 0.6783057856559753240333066 \tTraining Accuracy: 62.9375\n"
     ]
    },
    {
     "data": {
      "text/plain": [
       "0.6783057856559753"
      ]
     },
     "execution_count": 25,
     "metadata": {},
     "output_type": "execute_result"
    }
   ],
   "source": [
    "train_iter(12, model, train, optimizer, criterion)"
   ]
  },
  {
   "cell_type": "code",
   "execution_count": 28,
   "id": "03bf03be",
   "metadata": {},
   "outputs": [
    {
     "name": "stdout",
     "output_type": "stream",
     "text": [
      "Epoch: 13 \tTraining Loss: 0.6697379803657531605054487 \tTraining Accuracy: 63.5625\n"
     ]
    },
    {
     "data": {
      "text/plain": [
       "0.6697379803657532"
      ]
     },
     "execution_count": 28,
     "metadata": {},
     "output_type": "execute_result"
    }
   ],
   "source": [
    "train_iter(13, model, train, optimizer, criterion)"
   ]
  },
  {
   "cell_type": "code",
   "execution_count": 31,
   "id": "a8dc29df",
   "metadata": {},
   "outputs": [
    {
     "name": "stdout",
     "output_type": "stream",
     "text": [
      "Epoch: 14 \tTraining Loss: 0.6930746066570282470920006 \tTraining Accuracy: 61.0625\n"
     ]
    },
    {
     "data": {
      "text/plain": [
       "0.6930746066570282"
      ]
     },
     "execution_count": 31,
     "metadata": {},
     "output_type": "execute_result"
    }
   ],
   "source": [
    "train_iter(14, model, train, optimizer, criterion)"
   ]
  },
  {
   "cell_type": "code",
   "execution_count": 32,
   "id": "e6a280da",
   "metadata": {},
   "outputs": [
    {
     "name": "stdout",
     "output_type": "stream",
     "text": [
      "Epoch: 15 \tTraining Loss: 0.6620237714052200628245259 \tTraining Accuracy: 63.1875\n"
     ]
    },
    {
     "data": {
      "text/plain": [
       "0.6620237714052201"
      ]
     },
     "execution_count": 32,
     "metadata": {},
     "output_type": "execute_result"
    }
   ],
   "source": [
    "train_iter(15, model, train, optimizer, criterion)"
   ]
  },
  {
   "cell_type": "code",
   "execution_count": 35,
   "id": "eaba9ec5",
   "metadata": {},
   "outputs": [
    {
     "name": "stdout",
     "output_type": "stream",
     "text": [
      "Epoch: 16 \tTraining Loss: 0.6603459441661834183889823 \tTraining Accuracy: 63.6250\n"
     ]
    },
    {
     "data": {
      "text/plain": [
       "0.6603459441661834"
      ]
     },
     "execution_count": 35,
     "metadata": {},
     "output_type": "execute_result"
    }
   ],
   "source": [
    "train_iter(16, model, train, optimizer, criterion)"
   ]
  },
  {
   "cell_type": "code",
   "execution_count": 38,
   "id": "090bc980",
   "metadata": {},
   "outputs": [
    {
     "name": "stdout",
     "output_type": "stream",
     "text": [
      "Epoch: 17 \tTraining Loss: 0.6563734889030456987057960 \tTraining Accuracy: 64.0000\n",
      "Epoch: 18 \tTraining Loss: 0.6326209688186645863083868 \tTraining Accuracy: 66.4375\n"
     ]
    },
    {
     "data": {
      "text/plain": [
       "0.6326209688186646"
      ]
     },
     "execution_count": 38,
     "metadata": {},
     "output_type": "execute_result"
    }
   ],
   "source": [
    "train_iter(17, model, train, optimizer, criterion)\n",
    "train_iter(18, model, train, optimizer, criterion)"
   ]
  },
  {
   "cell_type": "code",
   "execution_count": 41,
   "id": "5663d0a2",
   "metadata": {},
   "outputs": [
    {
     "name": "stdout",
     "output_type": "stream",
     "text": [
      "Epoch: 19 \tTraining Loss: 0.6514371329545974864672075 \tTraining Accuracy: 65.3750\n",
      "Epoch: 20 \tTraining Loss: 0.6289315843582152787405448 \tTraining Accuracy: 67.1250\n"
     ]
    },
    {
     "data": {
      "text/plain": [
       "0.6289315843582153"
      ]
     },
     "execution_count": 41,
     "metadata": {},
     "output_type": "execute_result"
    }
   ],
   "source": [
    "train_iter(19, model, train, optimizer, criterion)\n",
    "train_iter(20, model, train, optimizer, criterion)"
   ]
  },
  {
   "cell_type": "code",
   "execution_count": 46,
   "id": "d16c4f4e",
   "metadata": {},
   "outputs": [
    {
     "name": "stdout",
     "output_type": "stream",
     "text": [
      "Epoch: 0 \tTraining Loss: 0.6381478345394134832346822 \tTraining Accuracy: 66.3125\n",
      "Epoch: 1 \tTraining Loss: 0.6326023900508880304371928 \tTraining Accuracy: 66.3125\n",
      "Epoch: 2 \tTraining Loss: 0.6240154558420181185596221 \tTraining Accuracy: 66.8750\n",
      "Epoch: 3 \tTraining Loss: 0.6093037420511245860765825 \tTraining Accuracy: 67.6250\n",
      "Epoch: 4 \tTraining Loss: 0.5877425181865691961036191 \tTraining Accuracy: 69.7500\n"
     ]
    }
   ],
   "source": [
    "train_model(5, model, train, optimizer, criterion)"
   ]
  },
  {
   "cell_type": "code",
   "execution_count": 49,
   "id": "53329e40",
   "metadata": {},
   "outputs": [
    {
     "name": "stdout",
     "output_type": "stream",
     "text": [
      "Epoch: 26 \tTraining Loss: 0.6026446127891540438525908 \tTraining Accuracy: 70.5625\n"
     ]
    },
    {
     "data": {
      "text/plain": [
       "0.602644612789154"
      ]
     },
     "execution_count": 49,
     "metadata": {},
     "output_type": "execute_result"
    }
   ],
   "source": [
    "train_iter(26, model, train, optimizer, criterion)"
   ]
  },
  {
   "cell_type": "code",
   "execution_count": 52,
   "id": "2769e4f9",
   "metadata": {},
   "outputs": [
    {
     "name": "stdout",
     "output_type": "stream",
     "text": [
      "Epoch: 27 \tTraining Loss: 0.5638117408752441050978632 \tTraining Accuracy: 71.0000\n"
     ]
    },
    {
     "data": {
      "text/plain": [
       "0.5638117408752441"
      ]
     },
     "execution_count": 52,
     "metadata": {},
     "output_type": "execute_result"
    }
   ],
   "source": [
    "train_iter(27, model, train, optimizer, criterion)"
   ]
  },
  {
   "cell_type": "code",
   "execution_count": 57,
   "id": "8c793c47",
   "metadata": {},
   "outputs": [
    {
     "name": "stdout",
     "output_type": "stream",
     "text": [
      "Epoch: 28 \tTraining Loss: 0.5474176043272018787888555 \tTraining Accuracy: 71.0000\n"
     ]
    },
    {
     "data": {
      "text/plain": [
       "0.5474176043272019"
      ]
     },
     "execution_count": 57,
     "metadata": {},
     "output_type": "execute_result"
    }
   ],
   "source": [
    "train_iter(28, model, train, optimizer, criterion)"
   ]
  },
  {
   "cell_type": "code",
   "execution_count": 60,
   "id": "13aee8dd",
   "metadata": {},
   "outputs": [
    {
     "name": "stdout",
     "output_type": "stream",
     "text": [
      "Epoch: 29 \tTraining Loss: 0.5707770889997482166577925 \tTraining Accuracy: 72.1250\n",
      "Epoch: 30 \tTraining Loss: 0.5557324373722076771286993 \tTraining Accuracy: 73.8750\n"
     ]
    },
    {
     "data": {
      "text/plain": [
       "0.5557324373722077"
      ]
     },
     "execution_count": 60,
     "metadata": {},
     "output_type": "execute_result"
    }
   ],
   "source": [
    "train_iter(29, model, train, optimizer, criterion)\n",
    "train_iter(30, model, train, optimizer, criterion)"
   ]
  },
  {
   "cell_type": "code",
   "execution_count": 63,
   "id": "e6f1da31",
   "metadata": {},
   "outputs": [
    {
     "name": "stdout",
     "output_type": "stream",
     "text": [
      "Epoch: 31 \tTraining Loss: 0.5217478299140929642874198 \tTraining Accuracy: 73.9375\n"
     ]
    },
    {
     "data": {
      "text/plain": [
       "0.521747829914093"
      ]
     },
     "execution_count": 63,
     "metadata": {},
     "output_type": "execute_result"
    }
   ],
   "source": [
    "train_iter(31, model, train, optimizer, criterion)"
   ]
  },
  {
   "cell_type": "code",
   "execution_count": 65,
   "id": "b854c120",
   "metadata": {},
   "outputs": [
    {
     "name": "stdout",
     "output_type": "stream",
     "text": [
      "Epoch: 32 \tTraining Loss: 0.7369284927845001220703125 \tTraining Accuracy: 66.8750\n",
      "Epoch: 33 \tTraining Loss: 0.5420547860860824851414463 \tTraining Accuracy: 73.1250\n",
      "Epoch: 34 \tTraining Loss: 0.5217531585693359064137553 \tTraining Accuracy: 73.5625\n"
     ]
    },
    {
     "data": {
      "text/plain": [
       "0.5217531585693359"
      ]
     },
     "execution_count": 65,
     "metadata": {},
     "output_type": "execute_result"
    }
   ],
   "source": [
    "train_iter(32, model, train, optimizer, criterion)\n",
    "train_iter(33, model, train, optimizer, criterion)\n",
    "train_iter(34, model, train, optimizer, criterion)"
   ]
  },
  {
   "cell_type": "code",
   "execution_count": 68,
   "id": "a35f2b56",
   "metadata": {},
   "outputs": [
    {
     "name": "stdout",
     "output_type": "stream",
     "text": [
      "Epoch: 35 \tTraining Loss: 0.5046012270450591641335336 \tTraining Accuracy: 76.5625\n"
     ]
    },
    {
     "data": {
      "text/plain": [
       "0.5046012270450592"
      ]
     },
     "execution_count": 68,
     "metadata": {},
     "output_type": "execute_result"
    }
   ],
   "source": [
    "train_iter(35, model, train, optimizer, criterion)"
   ]
  },
  {
   "cell_type": "code",
   "execution_count": 70,
   "id": "6482cd95",
   "metadata": {},
   "outputs": [
    {
     "name": "stdout",
     "output_type": "stream",
     "text": [
      "Epoch: 36 \tTraining Loss: 0.4975093591213226584812901 \tTraining Accuracy: 75.8750\n"
     ]
    },
    {
     "data": {
      "text/plain": [
       "0.49750935912132266"
      ]
     },
     "execution_count": 70,
     "metadata": {},
     "output_type": "execute_result"
    }
   ],
   "source": [
    "train_iter(36, model, train, optimizer, criterion)"
   ]
  },
  {
   "cell_type": "code",
   "execution_count": 72,
   "id": "e728d822",
   "metadata": {},
   "outputs": [
    {
     "name": "stdout",
     "output_type": "stream",
     "text": [
      "Epoch: 37 \tTraining Loss: 0.4814358231425285294946548 \tTraining Accuracy: 77.4375\n"
     ]
    },
    {
     "data": {
      "text/plain": [
       "0.48143582314252853"
      ]
     },
     "execution_count": 72,
     "metadata": {},
     "output_type": "execute_result"
    }
   ],
   "source": [
    "train_iter(37, model, train, optimizer, criterion)"
   ]
  },
  {
   "cell_type": "code",
   "execution_count": 74,
   "id": "d4f66614",
   "metadata": {},
   "outputs": [
    {
     "name": "stdout",
     "output_type": "stream",
     "text": [
      "Epoch: 38 \tTraining Loss: 0.4964321482181549005652244 \tTraining Accuracy: 75.8750\n"
     ]
    },
    {
     "data": {
      "text/plain": [
       "0.4964321482181549"
      ]
     },
     "execution_count": 74,
     "metadata": {},
     "output_type": "execute_result"
    }
   ],
   "source": [
    "train_iter(38, model, train, optimizer, criterion)"
   ]
  },
  {
   "cell_type": "code",
   "execution_count": 76,
   "id": "81b178b2",
   "metadata": {},
   "outputs": [
    {
     "name": "stdout",
     "output_type": "stream",
     "text": [
      "Epoch: 39 \tTraining Loss: 0.4584416246414184659130342 \tTraining Accuracy: 78.3125\n"
     ]
    },
    {
     "data": {
      "text/plain": [
       "0.45844162464141847"
      ]
     },
     "execution_count": 76,
     "metadata": {},
     "output_type": "execute_result"
    }
   ],
   "source": [
    "train_iter(39, model, train, optimizer, criterion)"
   ]
  },
  {
   "cell_type": "code",
   "execution_count": 78,
   "id": "e368164f",
   "metadata": {},
   "outputs": [
    {
     "name": "stdout",
     "output_type": "stream",
     "text": [
      "Epoch: 40 \tTraining Loss: 0.4750740873813629194799546 \tTraining Accuracy: 78.6250\n"
     ]
    },
    {
     "data": {
      "text/plain": [
       "0.4750740873813629"
      ]
     },
     "execution_count": 78,
     "metadata": {},
     "output_type": "execute_result"
    }
   ],
   "source": [
    "train_iter(40, model, train, optimizer, criterion)"
   ]
  },
  {
   "cell_type": "code",
   "execution_count": 66,
   "id": "19e6c933",
   "metadata": {},
   "outputs": [],
   "source": [
    "def eval_model(net, testDataLoader):\n",
    "    net.eval()\n",
    "    correct = 0\n",
    "    total = 0\n",
    "    with torch.no_grad():\n",
    "        for inputs, targets in testDataLoader:\n",
    "            outputs = net(inputs)\n",
    "            _, predicted = torch.max(outputs.data, 1)\n",
    "            total += len(targets)\n",
    "            correct += (predicted == targets).sum().item()\n",
    "            \n",
    "    print('Accuracy of the network on the set of %d test images: %d %%' % (total,\n",
    "        100 * correct / total))"
   ]
  },
  {
   "cell_type": "code",
   "execution_count": 62,
   "id": "45f91106",
   "metadata": {},
   "outputs": [
    {
     "name": "stdout",
     "output_type": "stream",
     "text": [
      "Accuracy of the network on the set of 400 test images: 55 %\n"
     ]
    }
   ],
   "source": [
    "eval_model(model, test)"
   ]
  }
 ],
 "metadata": {
  "kernelspec": {
   "display_name": "Python 3 (ipykernel)",
   "language": "python",
   "name": "python3"
  },
  "language_info": {
   "codemirror_mode": {
    "name": "ipython",
    "version": 3
   },
   "file_extension": ".py",
   "mimetype": "text/x-python",
   "name": "python",
   "nbconvert_exporter": "python",
   "pygments_lexer": "ipython3",
   "version": "3.9.7"
  }
 },
 "nbformat": 4,
 "nbformat_minor": 5
}
